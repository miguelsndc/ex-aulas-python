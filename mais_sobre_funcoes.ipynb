{
  "nbformat": 4,
  "nbformat_minor": 0,
  "metadata": {
    "colab": {
      "name": "mais-sobre_funcoes.ipynb",
      "provenance": [],
      "collapsed_sections": [],
      "authorship_tag": "ABX9TyMdrfN370sOi884xBIHyRlB",
      "include_colab_link": true
    },
    "kernelspec": {
      "name": "python3",
      "display_name": "Python 3"
    }
  },
  "cells": [
    {
      "cell_type": "markdown",
      "metadata": {
        "id": "view-in-github",
        "colab_type": "text"
      },
      "source": [
        "<a href=\"https://colab.research.google.com/github/miguelsndc/ex-aulas-python/blob/master/mais_sobre_funcoes.ipynb\" target=\"_parent\"><img src=\"https://colab.research.google.com/assets/colab-badge.svg\" alt=\"Open In Colab\"/></a>"
      ]
    },
    {
      "cell_type": "code",
      "metadata": {
        "id": "gLnuUOkbb9a7",
        "outputId": "b6ef37e2-2a20-4d5d-e018-929963864a37",
        "colab": {
          "base_uri": "https://localhost:8080/",
          "height": 34
        }
      },
      "source": [
        "#funções ( *args, **kwargs, )\n",
        "\n",
        "# *ARGS & **KWARGS ---------------------------------------------------------\n",
        "# *args = lista / tupla\n",
        "# kwargs = keyworded args = dicionários\n",
        "\n",
        "def func(*args):\n",
        "  for arg in args:\n",
        "    print(arg)\n",
        "\n",
        "# func(1, 2, 3, 4, 5, 6, 7, 8, 9, 54, 32)\n",
        "\n",
        "def func(**kwargs):\n",
        "  idade = kwargs.get('idade')\n",
        "  nome = kwargs.get('nome')\n",
        "\n",
        "\n",
        "\n",
        "# func(key=\"value\", nome=\"Joel\", idade=22)\n",
        "\n",
        "\n",
        "def calculate_price(value, **kwargs):\n",
        "  tax_percentage = kwargs.get(\"tax_percentage\")\n",
        "  discount = kwargs.get(\"discount\")\n",
        "\n",
        "  if tax_percentage:\n",
        "    value += value * (tax_percentage / 100)\n",
        "  if discount:\n",
        "    value -= discount\n",
        "\n",
        "  return value\n",
        "\n",
        "final_price = calculate_price(100, discount=5, tax_percentage=15)\n",
        "# print(final_price)\n",
        "\n",
        "\n",
        "\n",
        "\n",
        "\n"
      ],
      "execution_count": 11,
      "outputs": [
        {
          "output_type": "stream",
          "text": [
            "110.0\n"
          ],
          "name": "stdout"
        }
      ]
    },
    {
      "cell_type": "code",
      "metadata": {
        "id": "xGB62fSh3pwz",
        "outputId": "81e999a8-920a-4e49-c251-298be3807f13",
        "colab": {
          "base_uri": "https://localhost:8080/",
          "height": 34
        }
      },
      "source": [
        "\n",
        "\n",
        "# MAP, FILTER, REDUCE --------------------------------------------------------\n",
        "\n",
        "\n",
        "# map - aplica uma determinada função a uma iterável\n",
        "# necessário utilizar list() para obter os resultados \n",
        "\n",
        "\n",
        "# nomes = ['Joel', 'Elisa', 'Flávio', 'Rayssa', 'Bruna', 'Ludmylla']\n",
        "# nomes_maiusculo = list(map(lambda x : x.upper(), nomes))\n",
        "\n",
        "\n",
        "numeros = [1, 2, 3, 4, 5, 6]\n",
        "numeros_ao_quadrado = list(map(lambda x : x**2, numeros))\n",
        "# print(numeros, numeros_ao_quadrado)\n",
        "\n",
        "\n",
        "\n",
        "#filter() filtra os elementos de uma sequência. \n",
        "#O processo de filtragem é definido a partir de uma função que o programador passa como primeiro argumento da função.\n",
        "#Assim, filter() só “deixa passar” para a sequência resultante aqueles elementos para os quais a chamada da função que o usuário passou retornar True\n",
        "\n",
        "\n",
        "nomes = ['Elisa', 'Maria', 'Tayna', 'Flávio', 'Amanda', 'Arlindo']\n",
        "x = list(filter(lambda x : x[0].lower() in 'aeiou', nomes))\n",
        "# print(nomes, x)\n",
        "\n",
        "numeros = [1, 2, 3, 4, 5, 6, 7, 8, 9, 10]\n",
        "numeros_pares = list(filter(lambda x : x % 2 == 0, numeros))\n",
        "# print(numeros, numeros_pares)\n",
        "\n",
        "\n",
        "# numeros = [1, 2, 3, 4, 5, 6, 7, 8, 9]\n",
        "# numeros_ao_quadrado = list(map(lambda x : x ** 2, numeros))\n",
        "\n",
        "# #print(numeros_ao_quadrado)\n",
        "\n",
        "\n",
        "# numeros_pares = list(filter(lambda x : x % 2 == 0 , numeros))\n",
        "# # print(numeros_pares)\n",
        "\n",
        "# # Sua utilidade está na aplicação de uma função a todos os valores do conjunto, de forma a agregá-los todos em um único valor.\n",
        "\n",
        "from functools import reduce\n",
        "num =[1, 2, 3, 4, 5, 6, 7, 8, 9, 10]\n",
        "soma = reduce(lambda x, y : x + y, num, 0)\n",
        "\n",
        "\n",
        "#funcao (acumulador, valor_atual), iterável, valor_inicial\n",
        "# acumulador = jemfg\n",
        "\n",
        "\n",
        "\n",
        "\n",
        "\n",
        "lista = [\n",
        "  [\"P1\", 13],\n",
        "  [\"P2\", 6],\n",
        "  [\"P3\", 7],\n",
        "  [\"P4\", 50],\n",
        "  [\"P5\", 8],\n",
        "]\n",
        "\n",
        "lista.sort(key=lambda item : item[1])\n",
        "print(lista)\n",
        "\n",
        "\n",
        "\n"
      ],
      "execution_count": 25,
      "outputs": [
        {
          "output_type": "stream",
          "text": [
            "[['P1', 13], ['P2', 6], ['P3', 7], ['P4', 50], ['P5', 8]]\n"
          ],
          "name": "stdout"
        }
      ]
    },
    {
      "cell_type": "code",
      "metadata": {
        "id": "WmwYTQsA3sUy",
        "outputId": "e05e0908-f394-46ba-aa4d-a060bd4cac46",
        "colab": {
          "base_uri": "https://localhost:8080/",
          "height": 34
        }
      },
      "source": [
        "# LAMBDA ------------------------------------------------------------------\n",
        "#- funções anonimas\n",
        "#estrutura:\n",
        "# variável = lambda parâmetros : expressão\n",
        "# não é necessario usar *return*, ela já retorna o resultado automaticamente\n",
        "# Quando usar ?\n",
        "# Pq usar ?\n",
        "#ex:\n",
        "\n",
        "x = lambda x, y, z : x * y * z\n",
        "print(x(1, 2, 3))\n",
        "\n",
        "\n",
        "#x = lambda x : x ** 2\n",
        "#print(x(2))\n"
      ],
      "execution_count": 14,
      "outputs": [
        {
          "output_type": "stream",
          "text": [
            "6\n"
          ],
          "name": "stdout"
        }
      ]
    }
  ]
}