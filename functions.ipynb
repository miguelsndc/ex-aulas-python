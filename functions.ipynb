{
  "nbformat": 4,
  "nbformat_minor": 0,
  "metadata": {
    "colab": {
      "name": "Untitled11.ipynb",
      "provenance": [],
      "authorship_tag": "ABX9TyMM9tpps5fXQ+ft4eaBnG6k",
      "include_colab_link": true
    },
    "kernelspec": {
      "name": "python3",
      "display_name": "Python 3"
    }
  },
  "cells": [
    {
      "cell_type": "markdown",
      "metadata": {
        "id": "view-in-github",
        "colab_type": "text"
      },
      "source": [
        "<a href=\"https://colab.research.google.com/github/miguelsndc/ex-aulas-python/blob/master/functions.ipynb\" target=\"_parent\"><img src=\"https://colab.research.google.com/assets/colab-badge.svg\" alt=\"Open In Colab\"/></a>"
      ]
    },
    {
      "cell_type": "code",
      "metadata": {
        "id": "DyyUQt4oBnNX",
        "colab_type": "code",
        "colab": {
          "base_uri": "https://localhost:8080/",
          "height": 34
        },
        "outputId": "b7e03cbe-1d36-48f6-a587-b9eedb242b80"
      },
      "source": [
        "# Funções\n",
        "\n",
        "# Uma função deve executar apenas 1 tarefa !!!!!!!!!!!!!!!!!!!!!!!!!!!!!!!!!!!!!!!!!!!!\n",
        "\n",
        "# Oque São Funções ?\n",
        "# uma função é uma sequência de comandos que executa alguma tarefa e que tem um nome definido.\n",
        "# definindo uma função ( def )\n",
        "#escopo global, escopo local\n",
        "# valor padrão argumentos\n",
        "\n",
        "# Parâmetros X Argumentos\n",
        "\n",
        "# valor_padrao = 12 # escopo global\n",
        "\n",
        "def times(num1, num2):\n",
        "  result = num1 * num2 \n",
        "  return result \n",
        "\n",
        "def soma(n1, n2): #parametro\n",
        "  n3 = n1 + n2 # escopo local - dentro da função\n",
        "  return result\n",
        "\n",
        "result = times(2, 3) #instanciando\n",
        "soma2 = soma(result, 2)\n",
        "\n",
        "\n",
        "print()\n",
        "  \n",
        "  \n",
        "\n",
        "#estrutura da função\n",
        "# def nome_da_função(parâmetros):\n",
        "#     CORPO DA FUNÇÃO\n",
        "#     retorno de valor\n",
        "\n",
        "#Retorno de Valores\n",
        "# termo chave : \"return\"\n",
        "\n",
        "\n",
        "\n",
        "\n"
      ],
      "execution_count": 11,
      "outputs": [
        {
          "output_type": "stream",
          "text": [
            "8\n"
          ],
          "name": "stdout"
        }
      ]
    },
    {
      "cell_type": "code",
      "metadata": {
        "id": "ZL2RL1GKHR1w",
        "colab_type": "code",
        "colab": {}
      },
      "source": [
        ""
      ],
      "execution_count": null,
      "outputs": []
    }
  ]
}