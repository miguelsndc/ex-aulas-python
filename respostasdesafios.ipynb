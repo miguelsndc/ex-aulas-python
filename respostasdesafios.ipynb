{
  "nbformat": 4,
  "nbformat_minor": 0,
  "metadata": {
    "colab": {
      "name": "respostasdesafios.ipynb",
      "provenance": [],
      "authorship_tag": "ABX9TyPrd9/Xqc1aIwdjL4RHz+1k",
      "include_colab_link": true
    },
    "kernelspec": {
      "name": "python3",
      "display_name": "Python 3"
    }
  },
  "cells": [
    {
      "cell_type": "markdown",
      "metadata": {
        "id": "view-in-github",
        "colab_type": "text"
      },
      "source": [
        "<a href=\"https://colab.research.google.com/github/miguelsndc/ex-aulas-python/blob/master/respostasdesafios.ipynb\" target=\"_parent\"><img src=\"https://colab.research.google.com/assets/colab-badge.svg\" alt=\"Open In Colab\"/></a>"
      ]
    },
    {
      "cell_type": "code",
      "metadata": {
        "id": "zvDH7AIsRx4P"
      },
      "source": [
        "preco_pao = 0.80\n",
        "preco_broa = 2.50\n",
        "preco_euro = 4.60\n",
        "\n",
        "def ler_quantidade ():\n",
        "  qnt_paes = int(input('Digite a quantidade de Pães vendida: '))\n",
        "  qnt_broas = int(input('Digite a quantidade de Broas vendida: '))\n",
        "\n",
        "  return qnt_paes, qnt_broas\n",
        "          \n",
        "def calcular_venda_total(qnt_paes, qnt_broas):\n",
        "  vendas_broa =  qnt_broas * preco_broa\n",
        "  vendas_pao =  qnt_paes * preco_pao\n",
        "  vendaTotal = vendas_broa + vendas_pao\n",
        "\n",
        "  return vendaTotal\n",
        "\n",
        "def calcular_custo_e_lucro (vendaTotal) :\n",
        "  custo = vendaTotal * 0.43\n",
        "  lucro = vendaTotal - custo\n",
        "\n",
        "  return custo, lucro\n",
        "\n",
        "def calcular_poupanca_e_euro(lucro):\n",
        "  valor_reservado = lucro * 0.30\n",
        "  euros_comprados = (valor_reservado / 2) / preco_euro\n",
        "  valor_na_poupanca = (valor_reservado / 2) \n",
        "  lucro -= valor_reservado\n",
        "  return lucro, euros_comprados, valor_na_poupanca\n",
        "\n",
        "\n",
        "\n",
        "quantidade_vendida = ler_quantidade()\n",
        "\n",
        "qnt_paes, qnt_broas = quantidade_vendida\n",
        "\n",
        "vendaTotal = calcular_venda_total(qnt_paes, qnt_broas)\n",
        "\n",
        "custo, lucro = calcular_custo_e_lucro(vendaTotal)\n",
        "\n",
        "lucro, euros_comprados, valor_na_poupanca = calcular_poupanca_e_euro(lucro)\n",
        "\n",
        "print(f\"Lucro final: R${lucro:.2f}\")\n",
        "print(f\"Euros Comprados: E{euros_comprados:.2f}\")\n",
        "print(f\"Valor colocado na poupança: R${valor_na_poupanca:.2f}\")\n",
        "print(f\"Broas vendidas: {qnt_broas} Lucro bruto com a venda das Broas: R${(qnt_broas * preco_broa):.2f}\")\n",
        "print(f\"Paes vendidos: {qnt_paes} Lucro bruto com a venda dos paes: R${(qnt_paes * preco_pao):.2f}\")"
      ],
      "execution_count": null,
      "outputs": []
    },
    {
      "cell_type": "code",
      "metadata": {
        "id": "OxcBqw3nadfC"
      },
      "source": [
        ""
      ],
      "execution_count": null,
      "outputs": []
    },
    {
      "cell_type": "code",
      "metadata": {
        "id": "QMDzRrbqalBX",
        "outputId": "6082d3b7-4dc4-4542-93b7-3a7b92dedb94",
        "colab": {
          "base_uri": "https://localhost:8080/",
          "height": 34
        }
      },
      "source": [
        "print  (1, 2)"
      ],
      "execution_count": null,
      "outputs": [
        {
          "output_type": "stream",
          "text": [
            "1 2\n"
          ],
          "name": "stdout"
        }
      ]
    },
    {
      "cell_type": "code",
      "metadata": {
        "id": "CPbDC5m2Tp8t",
        "outputId": "71900d98-e33d-4041-fb28-ac94bf1dd29e",
        "colab": {
          "base_uri": "https://localhost:8080/",
          "height": 34
        }
      },
      "source": [
        "y ='X'\n",
        "S = [x if x in ['A', 'E', 'I', 'O', 'U'] else y for x in 'BANANA']\n",
        "\n",
        "# resultado se expr else outroresult for x in iteravel\n",
        "\n",
        "\n",
        "print(S)"
      ],
      "execution_count": 3,
      "outputs": [
        {
          "output_type": "stream",
          "text": [
            "['X', 'A', 'X', 'A', 'X', 'A']\n"
          ],
          "name": "stdout"
        }
      ]
    },
    {
      "cell_type": "code",
      "metadata": {
        "id": "zv0DKb2io0Nq",
        "outputId": "7517cc01-a963-4c69-b811-b8868187b0a5",
        "colab": {
          "base_uri": "https://localhost:8080/",
          "height": 34
        }
      },
      "source": [
        "lista1 = [1, 2, 3, 4, 5, 6, 7, 8, 9]\n",
        "lista_par = [x for x in lista1 if x % 2 == 0]\n",
        "\n",
        "print(lista_par)"
      ],
      "execution_count": 4,
      "outputs": [
        {
          "output_type": "stream",
          "text": [
            "[2, 4, 6, 8]\n"
          ],
          "name": "stdout"
        }
      ]
    },
    {
      "cell_type": "code",
      "metadata": {
        "id": "dhtUUde6pkdj",
        "outputId": "69b3bc4b-f0bf-4427-ed4a-77cf9779bde8",
        "colab": {
          "base_uri": "https://localhost:8080/",
          "height": 34
        }
      },
      "source": [
        "creature_names = ['Sammy', 'Ashley', 'Jo', 'Olly', 'Jackie', 'Charlie']\n",
        "\n",
        "def names_vowels(x):\n",
        "  return x[0].lower() in 'aeiou'\n",
        "\n",
        "filtered_names = filter(names_vowels, creature_names)\n",
        "\n",
        "print(list(filtered_names))"
      ],
      "execution_count": 5,
      "outputs": [
        {
          "output_type": "stream",
          "text": [
            "['Ashley', 'Olly']\n"
          ],
          "name": "stdout"
        }
      ]
    },
    {
      "cell_type": "code",
      "metadata": {
        "id": "BzL9JyGWVF6m"
      },
      "source": [
        "#Faça um programa que determine o valor a ser pago por uma prestação de uma conta.\n",
        "#O programa deverá solicitar ao usuário o valor da prestação e o número de dias em atraso e calcular o valor a ser pago.\n",
        "# O programa deverá então exibir o valor a ser pago na tela. \n",
        "#Após a execução o programa deverá voltar a pedir outro valor de prestação e assim continuar até que seja informado um valor igual a zero para a prestação. \n",
        "#Neste momento o programa deverá ser encerrado, exibindo o relatório do dia, que conterá a quantidade e o valor total de prestações pagas no dia. \n",
        "#O cálculo do valor a ser pago é feito da seguinte forma. \n",
        "#Para pagamentos sem atraso, cobrar o valor da prestação.\n",
        "# Quando houver atraso, cobrar 3% de multa, mais 0,1% de juros por dia de atraso.\n",
        "\n",
        "\n",
        "relatorio_do_dia = {}\n",
        "def valor_pagamento(valor_prestacao, dias_atraso):\n",
        "  if dias_atraso == 0:\n",
        "    return valor_prestacao\n",
        "  else:\n",
        "    valor_prestacao += (3/100 * valor_prestacao) + (0.1/100 * dias_atraso)\n",
        "    return valor_prestacao\n",
        "\n",
        "c = 0\n",
        "while True:\n",
        "  c += 1\n",
        "  valor_da_prestacao = float(input('Digite o valor da prestação: '))\n",
        "\n",
        "  if valor_da_prestacao == 0:\n",
        "    y = 0\n",
        "    for k,v in relatorio_do_dia.items():\n",
        "      y += v[2]\n",
        "    print('Total de prestações pagas hoje: ', len(relatorio_do_dia))\n",
        "    print(f'Valor da soma de todas as prestações : {y:.2f}')\n",
        "    break\n",
        "\n",
        "  dias_de_atraso = int(input('Digite os dias de atraso: '))\n",
        "  valor_final = valor_pagamento(valor_da_prestacao, dias_de_atraso)\n",
        "\n",
        "  relatorio_do_dia[f\"cliente{c}\"] = [valor_da_prestacao, dias_de_atraso, valor_final]\n",
        "\n",
        "  print(f\"Valor total a ser pago: {valor_final:.2f}\")\n",
        "\n",
        "\n",
        "\n",
        "\n",
        "\n",
        "\n",
        "\n",
        "valor_reservado = 30% -> lucro\n",
        "\n",
        "\n",
        "\n",
        "\n",
        "\n",
        "\n",
        "\n",
        "\n",
        "\n"
      ],
      "execution_count": null,
      "outputs": []
    }
  ]
}